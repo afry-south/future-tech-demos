{
 "cells": [
  {
   "cell_type": "code",
   "execution_count": 1,
   "metadata": {},
   "outputs": [
    {
     "name": "stdout",
     "output_type": "stream",
     "text": [
      "env: OPENAI_API_KEY=...\n"
     ]
    }
   ],
   "source": [
    "%env OPENAI_API_KEY=..."
   ]
  },
  {
   "cell_type": "code",
   "execution_count": 13,
   "metadata": {},
   "outputs": [],
   "source": [
    "from langchain.prompts import PromptTemplate\n",
    "from langchain.llms import OpenAI\n",
    "from langchain import LLMChain\n",
    "from langchain.chains import SimpleSequentialChain\n",
    "\n",
    "llm = OpenAI(temperature=0.9)\n",
    "prompt = PromptTemplate(\n",
    "    input_variables=[\"theme\"],\n",
    "    template=\"What is a good email title for a full day of fun with the theme {theme}?\",\n",
    ")\n",
    "chain = LLMChain(llm=llm, prompt=prompt)"
   ]
  },
  {
   "cell_type": "code",
   "execution_count": 8,
   "metadata": {},
   "outputs": [
    {
     "data": {
      "text/plain": [
       "'\\n\\nAhoy Mateys! Join Us for a Day of Pirates, Candy & Shuffleboard Fun!'"
      ]
     },
     "execution_count": 8,
     "metadata": {},
     "output_type": "execute_result"
    }
   ],
   "source": [
    "chain.run(\"Pirates, Candy and Shuffleboard\")"
   ]
  },
  {
   "cell_type": "code",
   "execution_count": 16,
   "metadata": {},
   "outputs": [],
   "source": [
    "def gen_text(txt_prompt: str) -> str:\n",
    "\n",
    "    llm = OpenAI(temperature=0.9)\n",
    "    prompt = PromptTemplate(\n",
    "        input_variables=[\"theme\"],\n",
    "        template=\"What is a good email title for a full day of fun with the theme {theme}?\",\n",
    "    )\n",
    "    chain = LLMChain(llm=llm, prompt=prompt)\n",
    "\n",
    "    second_prompt = PromptTemplate(\n",
    "        input_variables=[\"title\"],\n",
    "        template=\"What is a good email invitation for a full day of fun with the title and theme {title}?\",\n",
    "    )\n",
    "    chain_two = LLMChain(llm=llm, prompt=second_prompt)\n",
    "\n",
    "    \n",
    "    overall_chain = SimpleSequentialChain(chains=[chain, chain_two], verbose=True)\n",
    "    \n",
    "    return overall_chain.run(txt_prompt)"
   ]
  },
  {
   "cell_type": "code",
   "execution_count": 17,
   "metadata": {},
   "outputs": [
    {
     "name": "stdout",
     "output_type": "stream",
     "text": [
      "\n",
      "\n",
      "\u001B[1m> Entering new SimpleSequentialChain chain...\u001B[0m\n",
      "\u001B[36;1m\u001B[1;3m\n",
      "\n",
      "\"Ahoy, Mateys! Join Us for a Day of Pirates, Candy, and Shuffleboard!\"\u001B[0m\n",
      "\u001B[33;1m\u001B[1;3m\n",
      "\n",
      "Subject: Set Sail with Us for a Day of Pirates, Candy, and Shuffleboard!\n",
      "\n",
      "Ahoy, Mateys! \n",
      "\n",
      "It's time to join us for a day of swashbuckling fun! On [date], we'll be throwing a day-long celebration for a scallywag's delight! We'll have plenty of treats to indulge in, a range of swashbuckling activities, and a grand adventure for all. \n",
      "\n",
      "Throughout our day, we'll be enjoying candy and other sweet treats. We'll also raise the Jolly Roger, and sail off to an adventure as we embark on a pirate-themed scavenger hunt. After that, we'll be mastering the ancient art of shuffleboard. Let's see who can be crowned the ultimate shuffleboard champion!\n",
      "\n",
      "Come join us for a day full of fun and adventures! \n",
      "\n",
      "When : [date] \n",
      "Where : [location] \n",
      "\n",
      "We hope to see you there!\n",
      "\n",
      "Cheers, \n",
      "[name]\u001B[0m\n",
      "\n",
      "\u001B[1m> Finished chain.\u001B[0m\n"
     ]
    },
    {
     "data": {
      "text/plain": [
       "\"\\n\\nSubject: Set Sail with Us for a Day of Pirates, Candy, and Shuffleboard!\\n\\nAhoy, Mateys! \\n\\nIt's time to join us for a day of swashbuckling fun! On [date], we'll be throwing a day-long celebration for a scallywag's delight! We'll have plenty of treats to indulge in, a range of swashbuckling activities, and a grand adventure for all. \\n\\nThroughout our day, we'll be enjoying candy and other sweet treats. We'll also raise the Jolly Roger, and sail off to an adventure as we embark on a pirate-themed scavenger hunt. After that, we'll be mastering the ancient art of shuffleboard. Let's see who can be crowned the ultimate shuffleboard champion!\\n\\nCome join us for a day full of fun and adventures! \\n\\nWhen : [date] \\nWhere : [location] \\n\\nWe hope to see you there!\\n\\nCheers, \\n[name]\""
      ]
     },
     "execution_count": 17,
     "metadata": {},
     "output_type": "execute_result"
    }
   ],
   "source": [
    "gen_text(\"Pirates, Candy and Shuffleboard\")"
   ]
  },
  {
   "cell_type": "code",
   "execution_count": null,
   "metadata": {},
   "outputs": [],
   "source": []
  }
 ],
 "metadata": {
  "kernelspec": {
   "display_name": "Python 3",
   "language": "python",
   "name": "python3"
  },
  "language_info": {
   "codemirror_mode": {
    "name": "ipython",
    "version": 3
   },
   "file_extension": ".py",
   "mimetype": "text/x-python",
   "name": "python",
   "nbconvert_exporter": "python",
   "pygments_lexer": "ipython3",
   "version": "3.10.0"
  },
  "orig_nbformat": 4,
  "vscode": {
   "interpreter": {
    "hash": "dd1ab70b0ebcd7bf9e9ec8cadbf4e36330cd5633441eea054b477cbc91bb279c"
   }
  }
 },
 "nbformat": 4,
 "nbformat_minor": 2
}
