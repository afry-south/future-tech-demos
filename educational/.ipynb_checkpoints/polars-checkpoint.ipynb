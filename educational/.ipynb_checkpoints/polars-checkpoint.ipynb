{
 "cells": [
  {
   "cell_type": "code",
   "execution_count": null,
   "metadata": {
    "pycharm": {
     "name": "#%%\n"
    },
    "slideshow": {
     "slide_type": "skip"
    }
   },
   "outputs": [],
   "source": [
    "%%capture\n",
    "!pip install polars\n",
    "!pip install altair\n",
    "!pip install plotly\n",
    "!pip install matplotlib"
   ]
  },
  {
   "cell_type": "code",
   "execution_count": null,
   "metadata": {
    "pycharm": {
     "name": "#%%\n"
    },
    "slideshow": {
     "slide_type": "skip"
    }
   },
   "outputs": [],
   "source": [
    "import polars as pl\n",
    "import pandas as pd\n",
    "import altair as alt\n",
    "import plotly.express as px"
   ]
  },
  {
   "cell_type": "markdown",
   "metadata": {
    "pycharm": {
     "name": "#%% md\n"
    },
    "slideshow": {
     "slide_type": "slide"
    }
   },
   "source": [
    "# `polars` and `altair`\n",
    "\n",
    "Two tools we're using the Analytics South team.  \n",
    "Through these two tools we can achieve lightning fast operations and build complex graphs in a breeze.\n",
    "\n",
    "The tools also allow us to decouple code-segments much easier than using some other options, like `pandas` or `matplotlib`."
   ]
  },
  {
   "cell_type": "markdown",
   "metadata": {
    "pycharm": {
     "name": "#%%\n"
    },
    "slideshow": {
     "slide_type": "fragment"
    }
   },
   "source": [
    "We'll do a comparison throughout this workshop, with\n",
    "\n",
    "`polars` <-> `pandas`  \n",
    "`altair` <-> `plotly`"
   ]
  },
  {
   "cell_type": "markdown",
   "metadata": {
    "pycharm": {
     "name": "#%% md\n"
    },
    "slideshow": {
     "slide_type": "slide"
    }
   },
   "source": [
    "# `polars`\n",
    "\n",
    "Starting with `polars`,  \n",
    "`polars` is a DataFrame library written in Rust, which is incredibly fast and has an ergonomic API compared to `pandas` (IMO)."
   ]
  },
  {
   "cell_type": "markdown",
   "metadata": {
    "slideshow": {
     "slide_type": "slide"
    }
   },
   "source": [
    "`Polars` goes to great lengths to:\n",
    "\n",
    "- Reduce redundant copies\n",
    "- Traverse memory cache efficiently\n",
    "- Minimize contention in parallelism\n",
    "\n",
    "![polars](https://www.ritchievink.com/img/post-35-polars-0.15/db-benchmark.png)"
   ]
  },
  {
   "cell_type": "markdown",
   "metadata": {
    "slideshow": {
     "slide_type": "subslide"
    }
   },
   "source": [
    "It's lazy and semi-lazy!"
   ]
  },
  {
   "cell_type": "markdown",
   "metadata": {
    "pycharm": {
     "name": "#%% md\n"
    },
    "slideshow": {
     "slide_type": "slide"
    }
   },
   "source": [
    "## DataFrame instantiation\n",
    "\n",
    "Let's see how we can instantiate DataFrames!"
   ]
  },
  {
   "cell_type": "code",
   "execution_count": null,
   "metadata": {
    "pycharm": {
     "name": "#%%\n"
    },
    "slideshow": {
     "slide_type": "fragment"
    }
   },
   "outputs": [],
   "source": [
    "df_pl = pl.DataFrame({\"a\": [1,2], \"b\": [2,3]}); df_pl"
   ]
  },
  {
   "cell_type": "code",
   "execution_count": null,
   "metadata": {
    "pycharm": {
     "name": "#%%\n"
    },
    "slideshow": {
     "slide_type": "fragment"
    }
   },
   "outputs": [],
   "source": [
    "df_pd = pd.DataFrame({\"a\": [1,2], \"b\": [2,3]}); df_pd"
   ]
  },
  {
   "cell_type": "markdown",
   "metadata": {
    "pycharm": {
     "name": "#%% md\n"
    },
    "slideshow": {
     "slide_type": "slide"
    }
   },
   "source": [
    "That was easy, and very similar to `pandas`, but how can we interop between pandas?"
   ]
  },
  {
   "cell_type": "code",
   "execution_count": null,
   "metadata": {
    "pycharm": {
     "name": "#%%\n"
    },
    "slideshow": {
     "slide_type": "fragment"
    }
   },
   "outputs": [],
   "source": [
    "pl.from_pandas(df_pd)"
   ]
  },
  {
   "cell_type": "code",
   "execution_count": null,
   "metadata": {
    "pycharm": {
     "name": "#%%\n"
    },
    "slideshow": {
     "slide_type": "fragment"
    }
   },
   "outputs": [],
   "source": [
    "df_pl.to_pandas()"
   ]
  },
  {
   "cell_type": "markdown",
   "metadata": {
    "pycharm": {
     "name": "#%% md\n"
    },
    "slideshow": {
     "slide_type": "subslide"
    }
   },
   "source": [
    "That was even easier!\n",
    "\n",
    "We're now ready for some action, how about exploring `pl.Expr`?"
   ]
  },
  {
   "cell_type": "markdown",
   "metadata": {
    "slideshow": {
     "slide_type": "slide"
    }
   },
   "source": [
    "### `pl.Expr` a super-charged expression"
   ]
  },
  {
   "cell_type": "code",
   "execution_count": null,
   "metadata": {
    "pycharm": {
     "name": "#%%\n"
    },
    "slideshow": {
     "slide_type": "fragment"
    }
   },
   "outputs": [],
   "source": [
    "pl_expr = pl.col(\"a\") == 1; pl_expr"
   ]
  },
  {
   "cell_type": "markdown",
   "metadata": {
    "pycharm": {
     "name": "#%% md\n"
    },
    "slideshow": {
     "slide_type": "fragment"
    }
   },
   "source": [
    "Hmmm... What do we make of this?\n",
    "\n",
    "1. It's a non-executed expression\n",
    "    - Could be viewed as a SQL-expression\n",
    "2. It's not tied to any data-source"
   ]
  },
  {
   "cell_type": "markdown",
   "metadata": {
    "pycharm": {
     "name": "#%% md\n"
    },
    "slideshow": {
     "slide_type": "fragment"
    }
   },
   "source": [
    "And this gives us?\n",
    "\n",
    "1. Simpler to test\n",
    "2. Easier to refactor and separate code"
   ]
  },
  {
   "cell_type": "markdown",
   "metadata": {
    "pycharm": {
     "name": "#%% md\n"
    },
    "slideshow": {
     "slide_type": "fragment"
    }
   },
   "source": [
    "Let's try it!"
   ]
  },
  {
   "cell_type": "code",
   "execution_count": null,
   "metadata": {
    "pycharm": {
     "name": "#%%\n"
    },
    "slideshow": {
     "slide_type": "subslide"
    }
   },
   "outputs": [],
   "source": [
    "df_pl.filter(pl_expr)"
   ]
  },
  {
   "cell_type": "code",
   "execution_count": null,
   "metadata": {
    "pycharm": {
     "name": "#%%\n"
    },
    "slideshow": {
     "slide_type": "fragment"
    }
   },
   "outputs": [],
   "source": [
    "df_pl.filter(~pl_expr)"
   ]
  },
  {
   "cell_type": "markdown",
   "metadata": {
    "slideshow": {
     "slide_type": "slide"
    }
   },
   "source": [
    "Did you ever think about how `pandas` work more in-depth? Like filtering?\n",
    "\n",
    "`df[df[\"id\"].is_in(list_of_ids)]`\n",
    "\n",
    "What happens?"
   ]
  },
  {
   "cell_type": "markdown",
   "metadata": {
    "slideshow": {
     "slide_type": "fragment"
    }
   },
   "source": [
    "1. We create a list of true-false, e.g. an indexing array\n",
    "2. We filter our `DataFrame` using said indexing array"
   ]
  },
  {
   "cell_type": "markdown",
   "metadata": {
    "slideshow": {
     "slide_type": "fragment"
    }
   },
   "source": [
    "This means that we allocate one object completely unneccessary as we're not re-using it."
   ]
  },
  {
   "cell_type": "markdown",
   "metadata": {
    "slideshow": {
     "slide_type": "slide"
    }
   },
   "source": [
    "Another thing about `pandas` people don't think about is that `pandas` is single-threaded while a computer usually has _multiple cores_. \n",
    "\n",
    "What we're doing in `pandas` is often ridicolously parallellizible. `filter`, `map`, `groupBy`, and even `set_column`. "
   ]
  },
  {
   "cell_type": "markdown",
   "metadata": {
    "slideshow": {
     "slide_type": "subslide"
    }
   },
   "source": [
    "This means that we're **not making use of the majority of our computer**, but simply a small piece."
   ]
  },
  {
   "cell_type": "markdown",
   "metadata": {
    "slideshow": {
     "slide_type": "subslide"
    }
   },
   "source": [
    "For now we need to be aware of the following:\n",
    "\n",
    "1. `polars` use `pl.Expr``\n",
    "2. `polars` has no index (which makes it actually a lot easier..)\n",
    "3. `polars` uses `null` over `NaN` in multiple places\n",
    "4. `polars` can be `lazy`\n",
    "5. `polars` has a simpler API (IMO)\n",
    "    - Bonus: Less warnings like \"could be bad to set attribute to copy\"\n",
    "6. `polars` has a stricter type system\n",
    "7. `polars` is built on `Rust` if you care"
   ]
  },
  {
   "cell_type": "markdown",
   "metadata": {
    "slideshow": {
     "slide_type": "subslide"
    }
   },
   "source": [
    "We also need to be aware of the following draw-backs:\n",
    "\n",
    "1. `polars` stricter Type System makes it more prone to crash on `concat` and similar actions\n",
    "2. `polars` readers are not as versatile and well-implemented as `pandas`\n",
    "    - Bonus: `polars` is much, much faster\n",
    "    - Example: `polars` does not support `,`-decimals anyway simple or merging two columns into a date\n",
    "3. `pandas` is _Lingua Franca_ and widely used within API:s, we'll see in `altair` and `plotly`."
   ]
  },
  {
   "cell_type": "markdown",
   "metadata": {
    "slideshow": {
     "slide_type": "subslide"
    }
   },
   "source": [
    "### A simple cheat-sheet"
   ]
  },
  {
   "cell_type": "code",
   "execution_count": null,
   "metadata": {
    "pycharm": {
     "name": "#%% md\n"
    },
    "slideshow": {
     "slide_type": "fragment"
    }
   },
   "outputs": [],
   "source": [
    "df = df_pl\n",
    "\n",
    "df.groupby(pl.col(\"a\")).agg(pl.col(\"b\")) # lazy by default!\n",
    "df.groupby(pl.col(\"a\")).agg([pl.mean(\"b\")])"
   ]
  },
  {
   "cell_type": "code",
   "execution_count": null,
   "metadata": {
    "slideshow": {
     "slide_type": "fragment"
    }
   },
   "outputs": [],
   "source": [
    "b_over_a = [pl.col(\"a\"), pl.mean(\"b\").over(\"a\")]\n",
    "df.select(b_over_a) # can use expressions to make it really cool"
   ]
  },
  {
   "cell_type": "code",
   "execution_count": null,
   "metadata": {
    "slideshow": {
     "slide_type": "subslide"
    }
   },
   "outputs": [],
   "source": [
    "pl.concat([df, df]).select(b_over_a)"
   ]
  },
  {
   "cell_type": "code",
   "execution_count": null,
   "metadata": {
    "slideshow": {
     "slide_type": "fragment"
    }
   },
   "outputs": [],
   "source": [
    "df.select([pl.mean(\"a\"), pl.mean(\"b\")])"
   ]
  },
  {
   "cell_type": "code",
   "execution_count": null,
   "metadata": {
    "slideshow": {
     "slide_type": "fragment"
    }
   },
   "outputs": [],
   "source": [
    "df.with_columns([\n",
    "    pl.mean(\"a\").alias(\"mean_a\"),\n",
    "    pl.min(\"b\").alias(\"min_b\")\n",
    "])"
   ]
  },
  {
   "cell_type": "code",
   "execution_count": null,
   "metadata": {
    "slideshow": {
     "slide_type": "subslide"
    }
   },
   "outputs": [],
   "source": [
    "df.filter(pl.col(\"a\") <= 1)"
   ]
  },
  {
   "cell_type": "code",
   "execution_count": null,
   "metadata": {
    "slideshow": {
     "slide_type": "fragment"
    }
   },
   "outputs": [],
   "source": [
    "df.partition_by(\"a\")"
   ]
  },
  {
   "cell_type": "code",
   "execution_count": null,
   "metadata": {
    "slideshow": {
     "slide_type": "fragment"
    }
   },
   "outputs": [],
   "source": [
    "df.select((pl.col(\"a\") == 1).sum())"
   ]
  },
  {
   "cell_type": "code",
   "execution_count": null,
   "metadata": {
    "slideshow": {
     "slide_type": "subslide"
    }
   },
   "outputs": [],
   "source": [
    "df.select(pl.when(pl.col(\"a\") == 1).then(100).otherwise(pl.col(\"a\") / 10).alias(\"conditional_a\"))"
   ]
  },
  {
   "cell_type": "code",
   "execution_count": null,
   "metadata": {
    "slideshow": {
     "slide_type": "fragment"
    }
   },
   "outputs": [],
   "source": [
    "df.with_column(pl.col(\"b\").list().alias(\"b_list\"))"
   ]
  },
  {
   "cell_type": "markdown",
   "metadata": {
    "slideshow": {
     "slide_type": "slide"
    }
   },
   "source": [
    "### What about being `lazy`?\n",
    "\n",
    "I thought we could go through the `lazy` mode and discuss further"
   ]
  },
  {
   "cell_type": "code",
   "execution_count": null,
   "metadata": {
    "slideshow": {
     "slide_type": "fragment"
    }
   },
   "outputs": [],
   "source": [
    "df.lazy().select(pl.col(\"a\")).filter(pl.col(\"a\") <= 1)"
   ]
  },
  {
   "cell_type": "code",
   "execution_count": null,
   "metadata": {
    "slideshow": {
     "slide_type": "fragment"
    }
   },
   "outputs": [],
   "source": [
    "print(df.lazy().select(pl.col(\"a\")).filter(pl.col(\"a\") <= 1).describe_optimized_plan())"
   ]
  },
  {
   "cell_type": "code",
   "execution_count": null,
   "metadata": {
    "slideshow": {
     "slide_type": "fragment"
    }
   },
   "outputs": [],
   "source": [
    "print(df.lazy().filter(pl.col(\"a\") <= 1).select(pl.col(\"a\")).describe_optimized_plan())"
   ]
  },
  {
   "cell_type": "code",
   "execution_count": null,
   "metadata": {
    "slideshow": {
     "slide_type": "fragment"
    }
   },
   "outputs": [],
   "source": [
    "df.lazy().filter(pl.col(\"a\") <= 1).select(pl.col(\"a\")).collect()"
   ]
  },
  {
   "cell_type": "markdown",
   "metadata": {
    "slideshow": {
     "slide_type": "slide"
    }
   },
   "source": [
    "## Playing around!\n",
    "\n",
    "- https://github.com/unitedstates/congress-legislators\n",
    "- https://www.kaggle.com/datasets/uciml/electric-power-consumption-data-set\n",
    "- https://www.kaggle.com/datasets/rounakbanik/pokemon"
   ]
  },
  {
   "cell_type": "markdown",
   "metadata": {
    "slideshow": {
     "slide_type": "slide"
    }
   },
   "source": [
    "# `altair` the simple way to plot\n",
    "\n",
    "I think `altair` has helped me out a lot in my project(s).\n",
    "\n",
    "I do miss something which is closer to `ggplot`, but the only library in Python isn't well supported in other tooling.\n",
    "\n",
    "`plotly` is very nice when it works, but gets very awkward quickly!\n",
    "\n",
    "`matplotlib` is obviously OK, but I love interactivity that's better."
   ]
  },
  {
   "cell_type": "code",
   "execution_count": null,
   "metadata": {
    "pycharm": {
     "name": "#%%\n"
    },
    "slideshow": {
     "slide_type": "skip"
    }
   },
   "outputs": [],
   "source": [
    "import altair as alt\n",
    "import plotly.express as px\n",
    "import matplotlib.pyplot as plt"
   ]
  },
  {
   "cell_type": "code",
   "execution_count": null,
   "metadata": {
    "slideshow": {
     "slide_type": "slide"
    }
   },
   "outputs": [],
   "source": [
    "df = pl.read_csv(\"https://raw.githubusercontent.com/lgreski/pokemonData/master/Pokemon.csv\"); df.head()"
   ]
  },
  {
   "cell_type": "code",
   "execution_count": null,
   "metadata": {
    "slideshow": {
     "slide_type": "slide"
    }
   },
   "outputs": [],
   "source": [
    "import time\n",
    "def benchmark(func, iter: int = 1000):\n",
    "    t0 = time.time()\n",
    "    for i in range(iter):\n",
    "        func()\n",
    "    print(f\"Average time {(time.time() - t0) / iter:.2} to run func\")"
   ]
  },
  {
   "cell_type": "code",
   "execution_count": null,
   "metadata": {
    "slideshow": {
     "slide_type": "subslide"
    }
   },
   "outputs": [],
   "source": [
    "benchmark(lambda: df.groupby([\"Type1\", \"Type2\"]).agg([pl.max(\"Attack\"), pl.mean(\"Generation\")]))\n",
    "df_pd = df.to_pandas()\n",
    "benchmark(lambda: df_pd.groupby([\"Type1\", \"Type2\"]).agg({\"Attack\": \"max\", \"Generation\": \"mean\"}))"
   ]
  },
  {
   "cell_type": "code",
   "execution_count": null,
   "metadata": {
    "slideshow": {
     "slide_type": "slide"
    }
   },
   "outputs": [],
   "source": [
    "df_large = pl.concat([df for i in range(100)])\n",
    "df_pd_large = df_large.to_pandas()"
   ]
  },
  {
   "cell_type": "code",
   "execution_count": null,
   "metadata": {
    "slideshow": {
     "slide_type": "fragment"
    }
   },
   "outputs": [],
   "source": [
    "benchmark(lambda: df_large.groupby([\"Type1\", \"Type2\"]).agg([pl.max(\"Attack\"), pl.mean(\"Generation\")]))\n",
    "benchmark(lambda: df_pd_large.groupby([\"Type1\", \"Type2\"]).agg({\"Attack\": \"max\", \"Generation\": \"mean\"}))"
   ]
  },
  {
   "cell_type": "code",
   "execution_count": null,
   "metadata": {
    "slideshow": {
     "slide_type": "fragment"
    }
   },
   "outputs": [],
   "source": [
    "df_large.shape"
   ]
  },
  {
   "cell_type": "code",
   "execution_count": null,
   "metadata": {
    "slideshow": {
     "slide_type": "fragment"
    }
   },
   "outputs": [],
   "source": [
    "df_large = pl.concat([df for i in range(1000)])\n",
    "df_pd_large = df_large.to_pandas()"
   ]
  },
  {
   "cell_type": "code",
   "execution_count": null,
   "metadata": {
    "slideshow": {
     "slide_type": "fragment"
    }
   },
   "outputs": [],
   "source": [
    "benchmark(lambda: df_large.groupby([\"Type1\", \"Type2\"]).agg([pl.max(\"Attack\"), pl.mean(\"Generation\")]))\n",
    "benchmark(lambda: df_pd_large.groupby([\"Type1\", \"Type2\"]).agg({\"Attack\": \"max\", \"Generation\": \"mean\"}))"
   ]
  },
  {
   "cell_type": "code",
   "execution_count": null,
   "metadata": {
    "slideshow": {
     "slide_type": "fragment"
    }
   },
   "outputs": [],
   "source": [
    "df_large.shape"
   ]
  },
  {
   "cell_type": "markdown",
   "metadata": {
    "slideshow": {
     "slide_type": "subslide"
    }
   },
   "source": [
    "The performance is clear as night and day, now onto `altair`\n",
    "\n",
    "## Plotting with `altair`"
   ]
  },
  {
   "cell_type": "code",
   "execution_count": null,
   "metadata": {
    "slideshow": {
     "slide_type": "slide"
    }
   },
   "outputs": [],
   "source": [
    "df.head()"
   ]
  },
  {
   "cell_type": "code",
   "execution_count": null,
   "metadata": {
    "slideshow": {
     "slide_type": "fragment"
    }
   },
   "outputs": [],
   "source": [
    "px.histogram(df.to_pandas(), y=\"Type1\")"
   ]
  },
  {
   "cell_type": "code",
   "execution_count": null,
   "metadata": {
    "slideshow": {
     "slide_type": "subslide"
    }
   },
   "outputs": [],
   "source": [
    "alt.Chart(df.to_pandas()).mark_bar().encode(x=\"Type1\", y=\"count(Type1)\")"
   ]
  },
  {
   "cell_type": "code",
   "execution_count": null,
   "metadata": {
    "slideshow": {
     "slide_type": "fragment"
    }
   },
   "outputs": [],
   "source": [
    "alt.Chart(df.to_pandas()).mark_bar(tooltip=True).encode(x=\"Type1\", y=\"count(Type1)\")"
   ]
  },
  {
   "cell_type": "code",
   "execution_count": null,
   "metadata": {
    "slideshow": {
     "slide_type": "slide"
    }
   },
   "outputs": [],
   "source": [
    "df.head()"
   ]
  },
  {
   "cell_type": "code",
   "execution_count": null,
   "metadata": {
    "slideshow": {
     "slide_type": "fragment"
    }
   },
   "outputs": [],
   "source": [
    "chart = alt.Chart(df.to_pandas())\n",
    "point_chart = chart.mark_circle(tooltip=True).encode(x=\"Type1\", y=\"Attack\", color=\"Type1\", size=\"Attack\")\n",
    "histogram_health = chart.mark_tick(tooltip=True).encode(x=\"Type1\", y=\"HP\", color=\"Type1\")"
   ]
  },
  {
   "cell_type": "code",
   "execution_count": null,
   "metadata": {
    "slideshow": {
     "slide_type": "fragment"
    }
   },
   "outputs": [],
   "source": [
    "(point_chart+histogram_health).resolve_scale(y=\"independent\")"
   ]
  },
  {
   "cell_type": "code",
   "execution_count": null,
   "metadata": {
    "slideshow": {
     "slide_type": "subslide"
    }
   },
   "outputs": [],
   "source": [
    "point_chart | histogram_health"
   ]
  },
  {
   "cell_type": "code",
   "execution_count": null,
   "metadata": {
    "slideshow": {
     "slide_type": "subslide"
    }
   },
   "outputs": [],
   "source": [
    "point_chart & histogram_health"
   ]
  },
  {
   "cell_type": "code",
   "execution_count": null,
   "metadata": {
    "slideshow": {
     "slide_type": "subslide"
    }
   },
   "outputs": [],
   "source": [
    "brush = alt.selection_interval()\n",
    "point_chart = point_chart.add_selection(\n",
    "    brush\n",
    ")\n",
    "histogram_health = histogram_health.transform_filter(\n",
    "    brush\n",
    ")\n",
    "point_chart | histogram_health"
   ]
  },
  {
   "cell_type": "code",
   "execution_count": null,
   "metadata": {
    "slideshow": {
     "slide_type": "slide"
    }
   },
   "outputs": [],
   "source": [
    "df.head()"
   ]
  },
  {
   "cell_type": "code",
   "execution_count": null,
   "metadata": {
    "slideshow": {
     "slide_type": "fragment"
    }
   },
   "outputs": [],
   "source": [
    "point_chart = chart.mark_circle(tooltip=True).encode(x=\"HP\", y=\"Attack\", color=\"Type1\", size=\"Defense\")\n",
    "point_chart.interactive()"
   ]
  },
  {
   "cell_type": "markdown",
   "metadata": {
    "slideshow": {
     "slide_type": "slide"
    }
   },
   "source": [
    "# Let's play!\n",
    "\n",
    "Let us play around with `polars` and `altair`!\n",
    "\n",
    "\n",
    "1. Add Selection Tools (selectboxes, select by legend etc)\n",
    "2. Add timeline-slider\n",
    "3. Try to combine multiple `.over` statements\n",
    "4. Try to add a `altair transform_filter` which can transform the data, e.g. showing `mean` of a col etc.\n",
    "\n",
    "More details can be found at: \n",
    "1. [_polars user guide_](https://pola-rs.github.io/polars-book/user-guide/introduction.html)\n",
    "2. [altair docs](https://altair-viz.github.io/gallery/index.html)"
   ]
  },
  {
   "cell_type": "code",
   "execution_count": null,
   "metadata": {
    "pycharm": {
     "name": "#%%\n"
    }
   },
   "outputs": [],
   "source": [
    "# https://www.kaggle.com/datasets/uciml/electric-power-consumption-data-set\n",
    "# https://www.kaggle.com/datasets/rounakbanik/pokemon"
   ]
  }
 ],
 "metadata": {
  "celltoolbar": "Slideshow",
  "kernelspec": {
   "display_name": "Python 3 (ipykernel)",
   "language": "python",
   "name": "python3"
  },
  "language_info": {
   "codemirror_mode": {
    "name": "ipython",
    "version": 3
   },
   "file_extension": ".py",
   "mimetype": "text/x-python",
   "name": "python",
   "nbconvert_exporter": "python",
   "pygments_lexer": "ipython3",
   "version": "3.8.9"
  }
 },
 "nbformat": 4,
 "nbformat_minor": 1
}
